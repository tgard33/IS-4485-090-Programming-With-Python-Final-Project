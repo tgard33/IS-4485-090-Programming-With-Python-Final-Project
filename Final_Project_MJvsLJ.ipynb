{
 "cells": [
  {
   "cell_type": "markdown",
   "id": "4d0db6e7",
   "metadata": {},
   "source": [
    "# Who is the better offensive NBA player based off of age/career out of Michael Jordan and LeBron James?"
   ]
  },
  {
   "cell_type": "markdown",
   "id": "553b92e2",
   "metadata": {},
   "source": [
    "# Import Packages/Libraries Needed for Notebook"
   ]
  },
  {
   "cell_type": "code",
   "execution_count": 1,
   "id": "f635d1b0",
   "metadata": {},
   "outputs": [],
   "source": [
    "import pandas as pd"
   ]
  },
  {
   "cell_type": "code",
   "execution_count": 2,
   "id": "ec9f046d",
   "metadata": {},
   "outputs": [],
   "source": [
    "import numpy as np"
   ]
  },
  {
   "cell_type": "code",
   "execution_count": 3,
   "id": "d610082b",
   "metadata": {},
   "outputs": [],
   "source": [
    "import matplotlib.pyplot as plt"
   ]
  },
  {
   "cell_type": "markdown",
   "id": "2d28a0d7",
   "metadata": {},
   "source": [
    "# Import Data Files for both Michael Jordan and LeBron James"
   ]
  },
  {
   "cell_type": "markdown",
   "id": "dc9e7ea9",
   "metadata": {},
   "source": [
    "Both of these data files come from https://www.basketball-reference.com/ On this website you can search any player or team and look up career statistics, playoff statistics, and more. The reason I chose the two data sets that I did was because it was the overall career stats for both Michael Jordan and LeBron James broken down by the years of their careers with the last row in the dataset being career totals. These data sets will help determine who out of Michael and LeBron had a better career statistically.\n",
    "\n",
    "LeBron James Data Reference: https://www.basketball-reference.com/players/j/jamesle01.html\n",
    "\n",
    "Michael Jordan Data Reference: https://www.basketball-reference.com/players/j/jordami01.html"
   ]
  },
  {
   "cell_type": "markdown",
   "id": "19f2c006",
   "metadata": {},
   "source": [
    "# Data Parsing"
   ]
  },
  {
   "cell_type": "code",
   "execution_count": 4,
   "id": "0666158e",
   "metadata": {},
   "outputs": [],
   "source": [
    "Michael_Jordan_Stats = pd.read_csv(\"Michael_Jordan_Stats.csv\")"
   ]
  },
  {
   "cell_type": "code",
   "execution_count": 5,
   "id": "f7579c3f",
   "metadata": {},
   "outputs": [
    {
     "data": {
      "text/html": [
       "<div>\n",
       "<style scoped>\n",
       "    .dataframe tbody tr th:only-of-type {\n",
       "        vertical-align: middle;\n",
       "    }\n",
       "\n",
       "    .dataframe tbody tr th {\n",
       "        vertical-align: top;\n",
       "    }\n",
       "\n",
       "    .dataframe thead th {\n",
       "        text-align: right;\n",
       "    }\n",
       "</style>\n",
       "<table border=\"1\" class=\"dataframe\">\n",
       "  <thead>\n",
       "    <tr style=\"text-align: right;\">\n",
       "      <th></th>\n",
       "      <th>Season</th>\n",
       "      <th>Age</th>\n",
       "      <th>Tm</th>\n",
       "      <th>Lg</th>\n",
       "      <th>Pos</th>\n",
       "      <th>G</th>\n",
       "      <th>GS</th>\n",
       "      <th>MP</th>\n",
       "      <th>FG</th>\n",
       "      <th>FGA</th>\n",
       "      <th>...</th>\n",
       "      <th>FT%</th>\n",
       "      <th>ORB</th>\n",
       "      <th>DRB</th>\n",
       "      <th>TRB</th>\n",
       "      <th>AST</th>\n",
       "      <th>STL</th>\n",
       "      <th>BLK</th>\n",
       "      <th>TOV</th>\n",
       "      <th>PF</th>\n",
       "      <th>PTS</th>\n",
       "    </tr>\n",
       "  </thead>\n",
       "  <tbody>\n",
       "    <tr>\n",
       "      <th>0</th>\n",
       "      <td>1984-85</td>\n",
       "      <td>21</td>\n",
       "      <td>CHI</td>\n",
       "      <td>NBA</td>\n",
       "      <td>SG</td>\n",
       "      <td>82</td>\n",
       "      <td>82</td>\n",
       "      <td>38.3</td>\n",
       "      <td>10.2</td>\n",
       "      <td>19.8</td>\n",
       "      <td>...</td>\n",
       "      <td>0.845</td>\n",
       "      <td>2.0</td>\n",
       "      <td>4.5</td>\n",
       "      <td>6.5</td>\n",
       "      <td>5.9</td>\n",
       "      <td>2.4</td>\n",
       "      <td>0.8</td>\n",
       "      <td>3.5</td>\n",
       "      <td>3.5</td>\n",
       "      <td>28.2</td>\n",
       "    </tr>\n",
       "    <tr>\n",
       "      <th>1</th>\n",
       "      <td>1985-86</td>\n",
       "      <td>22</td>\n",
       "      <td>CHI</td>\n",
       "      <td>NBA</td>\n",
       "      <td>SG</td>\n",
       "      <td>18</td>\n",
       "      <td>7</td>\n",
       "      <td>25.1</td>\n",
       "      <td>8.3</td>\n",
       "      <td>18.2</td>\n",
       "      <td>...</td>\n",
       "      <td>0.840</td>\n",
       "      <td>1.3</td>\n",
       "      <td>2.3</td>\n",
       "      <td>3.6</td>\n",
       "      <td>2.9</td>\n",
       "      <td>2.1</td>\n",
       "      <td>1.2</td>\n",
       "      <td>2.5</td>\n",
       "      <td>2.6</td>\n",
       "      <td>22.7</td>\n",
       "    </tr>\n",
       "    <tr>\n",
       "      <th>2</th>\n",
       "      <td>1986-87</td>\n",
       "      <td>23</td>\n",
       "      <td>CHI</td>\n",
       "      <td>NBA</td>\n",
       "      <td>SG</td>\n",
       "      <td>82</td>\n",
       "      <td>82</td>\n",
       "      <td>40.0</td>\n",
       "      <td>13.4</td>\n",
       "      <td>27.8</td>\n",
       "      <td>...</td>\n",
       "      <td>0.857</td>\n",
       "      <td>2.0</td>\n",
       "      <td>3.2</td>\n",
       "      <td>5.2</td>\n",
       "      <td>4.6</td>\n",
       "      <td>2.9</td>\n",
       "      <td>1.5</td>\n",
       "      <td>3.3</td>\n",
       "      <td>2.9</td>\n",
       "      <td>37.1</td>\n",
       "    </tr>\n",
       "    <tr>\n",
       "      <th>3</th>\n",
       "      <td>1987-88</td>\n",
       "      <td>24</td>\n",
       "      <td>CHI</td>\n",
       "      <td>NBA</td>\n",
       "      <td>SG</td>\n",
       "      <td>82</td>\n",
       "      <td>82</td>\n",
       "      <td>40.4</td>\n",
       "      <td>13.0</td>\n",
       "      <td>24.4</td>\n",
       "      <td>...</td>\n",
       "      <td>0.841</td>\n",
       "      <td>1.7</td>\n",
       "      <td>3.8</td>\n",
       "      <td>5.5</td>\n",
       "      <td>5.9</td>\n",
       "      <td>3.2</td>\n",
       "      <td>1.6</td>\n",
       "      <td>3.1</td>\n",
       "      <td>3.3</td>\n",
       "      <td>35.0</td>\n",
       "    </tr>\n",
       "    <tr>\n",
       "      <th>4</th>\n",
       "      <td>1988-89</td>\n",
       "      <td>25</td>\n",
       "      <td>CHI</td>\n",
       "      <td>NBA</td>\n",
       "      <td>SG</td>\n",
       "      <td>81</td>\n",
       "      <td>81</td>\n",
       "      <td>40.2</td>\n",
       "      <td>11.9</td>\n",
       "      <td>22.2</td>\n",
       "      <td>...</td>\n",
       "      <td>0.850</td>\n",
       "      <td>1.8</td>\n",
       "      <td>6.2</td>\n",
       "      <td>8.0</td>\n",
       "      <td>8.0</td>\n",
       "      <td>2.9</td>\n",
       "      <td>0.8</td>\n",
       "      <td>3.6</td>\n",
       "      <td>3.0</td>\n",
       "      <td>32.5</td>\n",
       "    </tr>\n",
       "  </tbody>\n",
       "</table>\n",
       "<p>5 rows × 30 columns</p>\n",
       "</div>"
      ],
      "text/plain": [
       "    Season  Age   Tm   Lg Pos   G  GS    MP    FG   FGA  ...    FT%  ORB  DRB  \\\n",
       "0  1984-85   21  CHI  NBA  SG  82  82  38.3  10.2  19.8  ...  0.845  2.0  4.5   \n",
       "1  1985-86   22  CHI  NBA  SG  18   7  25.1   8.3  18.2  ...  0.840  1.3  2.3   \n",
       "2  1986-87   23  CHI  NBA  SG  82  82  40.0  13.4  27.8  ...  0.857  2.0  3.2   \n",
       "3  1987-88   24  CHI  NBA  SG  82  82  40.4  13.0  24.4  ...  0.841  1.7  3.8   \n",
       "4  1988-89   25  CHI  NBA  SG  81  81  40.2  11.9  22.2  ...  0.850  1.8  6.2   \n",
       "\n",
       "   TRB  AST  STL  BLK  TOV   PF   PTS  \n",
       "0  6.5  5.9  2.4  0.8  3.5  3.5  28.2  \n",
       "1  3.6  2.9  2.1  1.2  2.5  2.6  22.7  \n",
       "2  5.2  4.6  2.9  1.5  3.3  2.9  37.1  \n",
       "3  5.5  5.9  3.2  1.6  3.1  3.3  35.0  \n",
       "4  8.0  8.0  2.9  0.8  3.6  3.0  32.5  \n",
       "\n",
       "[5 rows x 30 columns]"
      ]
     },
     "execution_count": 5,
     "metadata": {},
     "output_type": "execute_result"
    }
   ],
   "source": [
    "Michael_Jordan_Stats.head()"
   ]
  },
  {
   "cell_type": "code",
   "execution_count": 6,
   "id": "e3573a11",
   "metadata": {},
   "outputs": [],
   "source": [
    "LeBron_James_Stats = pd.read_csv(\"LeBron_James_Stats.csv\")"
   ]
  },
  {
   "cell_type": "code",
   "execution_count": 7,
   "id": "43d36e6e",
   "metadata": {},
   "outputs": [
    {
     "data": {
      "text/html": [
       "<div>\n",
       "<style scoped>\n",
       "    .dataframe tbody tr th:only-of-type {\n",
       "        vertical-align: middle;\n",
       "    }\n",
       "\n",
       "    .dataframe tbody tr th {\n",
       "        vertical-align: top;\n",
       "    }\n",
       "\n",
       "    .dataframe thead th {\n",
       "        text-align: right;\n",
       "    }\n",
       "</style>\n",
       "<table border=\"1\" class=\"dataframe\">\n",
       "  <thead>\n",
       "    <tr style=\"text-align: right;\">\n",
       "      <th></th>\n",
       "      <th>Season</th>\n",
       "      <th>Age</th>\n",
       "      <th>Tm</th>\n",
       "      <th>Lg</th>\n",
       "      <th>Pos</th>\n",
       "      <th>G</th>\n",
       "      <th>GS</th>\n",
       "      <th>MP</th>\n",
       "      <th>FG</th>\n",
       "      <th>FGA</th>\n",
       "      <th>...</th>\n",
       "      <th>FT%</th>\n",
       "      <th>ORB</th>\n",
       "      <th>DRB</th>\n",
       "      <th>TRB</th>\n",
       "      <th>AST</th>\n",
       "      <th>STL</th>\n",
       "      <th>BLK</th>\n",
       "      <th>TOV</th>\n",
       "      <th>PF</th>\n",
       "      <th>PTS</th>\n",
       "    </tr>\n",
       "  </thead>\n",
       "  <tbody>\n",
       "    <tr>\n",
       "      <th>0</th>\n",
       "      <td>2003-04</td>\n",
       "      <td>19</td>\n",
       "      <td>CLE</td>\n",
       "      <td>NBA</td>\n",
       "      <td>SG</td>\n",
       "      <td>79</td>\n",
       "      <td>79</td>\n",
       "      <td>39.5</td>\n",
       "      <td>7.9</td>\n",
       "      <td>18.9</td>\n",
       "      <td>...</td>\n",
       "      <td>0.754</td>\n",
       "      <td>1.3</td>\n",
       "      <td>4.2</td>\n",
       "      <td>5.5</td>\n",
       "      <td>5.9</td>\n",
       "      <td>1.6</td>\n",
       "      <td>0.7</td>\n",
       "      <td>3.5</td>\n",
       "      <td>1.9</td>\n",
       "      <td>20.9</td>\n",
       "    </tr>\n",
       "    <tr>\n",
       "      <th>1</th>\n",
       "      <td>2004-05</td>\n",
       "      <td>20</td>\n",
       "      <td>CLE</td>\n",
       "      <td>NBA</td>\n",
       "      <td>SF</td>\n",
       "      <td>80</td>\n",
       "      <td>80</td>\n",
       "      <td>42.4</td>\n",
       "      <td>9.9</td>\n",
       "      <td>21.1</td>\n",
       "      <td>...</td>\n",
       "      <td>0.750</td>\n",
       "      <td>1.4</td>\n",
       "      <td>6.0</td>\n",
       "      <td>7.4</td>\n",
       "      <td>7.2</td>\n",
       "      <td>2.2</td>\n",
       "      <td>0.7</td>\n",
       "      <td>3.3</td>\n",
       "      <td>1.8</td>\n",
       "      <td>27.2</td>\n",
       "    </tr>\n",
       "    <tr>\n",
       "      <th>2</th>\n",
       "      <td>2005-06</td>\n",
       "      <td>21</td>\n",
       "      <td>CLE</td>\n",
       "      <td>NBA</td>\n",
       "      <td>SF</td>\n",
       "      <td>79</td>\n",
       "      <td>79</td>\n",
       "      <td>42.5</td>\n",
       "      <td>11.1</td>\n",
       "      <td>23.1</td>\n",
       "      <td>...</td>\n",
       "      <td>0.738</td>\n",
       "      <td>0.9</td>\n",
       "      <td>6.1</td>\n",
       "      <td>7.0</td>\n",
       "      <td>6.6</td>\n",
       "      <td>1.6</td>\n",
       "      <td>0.8</td>\n",
       "      <td>3.3</td>\n",
       "      <td>2.3</td>\n",
       "      <td>31.4</td>\n",
       "    </tr>\n",
       "    <tr>\n",
       "      <th>3</th>\n",
       "      <td>2006-07</td>\n",
       "      <td>22</td>\n",
       "      <td>CLE</td>\n",
       "      <td>NBA</td>\n",
       "      <td>SF</td>\n",
       "      <td>78</td>\n",
       "      <td>78</td>\n",
       "      <td>40.9</td>\n",
       "      <td>9.9</td>\n",
       "      <td>20.8</td>\n",
       "      <td>...</td>\n",
       "      <td>0.698</td>\n",
       "      <td>1.1</td>\n",
       "      <td>5.7</td>\n",
       "      <td>6.7</td>\n",
       "      <td>6.0</td>\n",
       "      <td>1.6</td>\n",
       "      <td>0.7</td>\n",
       "      <td>3.2</td>\n",
       "      <td>2.2</td>\n",
       "      <td>27.3</td>\n",
       "    </tr>\n",
       "    <tr>\n",
       "      <th>4</th>\n",
       "      <td>2007-08</td>\n",
       "      <td>23</td>\n",
       "      <td>CLE</td>\n",
       "      <td>NBA</td>\n",
       "      <td>SF</td>\n",
       "      <td>75</td>\n",
       "      <td>74</td>\n",
       "      <td>40.4</td>\n",
       "      <td>10.6</td>\n",
       "      <td>21.9</td>\n",
       "      <td>...</td>\n",
       "      <td>0.712</td>\n",
       "      <td>1.8</td>\n",
       "      <td>6.1</td>\n",
       "      <td>7.9</td>\n",
       "      <td>7.2</td>\n",
       "      <td>1.8</td>\n",
       "      <td>1.1</td>\n",
       "      <td>3.4</td>\n",
       "      <td>2.2</td>\n",
       "      <td>30.0</td>\n",
       "    </tr>\n",
       "  </tbody>\n",
       "</table>\n",
       "<p>5 rows × 30 columns</p>\n",
       "</div>"
      ],
      "text/plain": [
       "    Season  Age   Tm   Lg Pos   G  GS    MP    FG   FGA  ...    FT%  ORB  DRB  \\\n",
       "0  2003-04   19  CLE  NBA  SG  79  79  39.5   7.9  18.9  ...  0.754  1.3  4.2   \n",
       "1  2004-05   20  CLE  NBA  SF  80  80  42.4   9.9  21.1  ...  0.750  1.4  6.0   \n",
       "2  2005-06   21  CLE  NBA  SF  79  79  42.5  11.1  23.1  ...  0.738  0.9  6.1   \n",
       "3  2006-07   22  CLE  NBA  SF  78  78  40.9   9.9  20.8  ...  0.698  1.1  5.7   \n",
       "4  2007-08   23  CLE  NBA  SF  75  74  40.4  10.6  21.9  ...  0.712  1.8  6.1   \n",
       "\n",
       "   TRB  AST  STL  BLK  TOV   PF   PTS  \n",
       "0  5.5  5.9  1.6  0.7  3.5  1.9  20.9  \n",
       "1  7.4  7.2  2.2  0.7  3.3  1.8  27.2  \n",
       "2  7.0  6.6  1.6  0.8  3.3  2.3  31.4  \n",
       "3  6.7  6.0  1.6  0.7  3.2  2.2  27.3  \n",
       "4  7.9  7.2  1.8  1.1  3.4  2.2  30.0  \n",
       "\n",
       "[5 rows x 30 columns]"
      ]
     },
     "execution_count": 7,
     "metadata": {},
     "output_type": "execute_result"
    }
   ],
   "source": [
    "LeBron_James_Stats.head()"
   ]
  },
  {
   "cell_type": "markdown",
   "id": "989a7afe",
   "metadata": {},
   "source": [
    "I chose these data sets for my evaluation because they are pretty clean data sets to begin with and it gives you many different statistics for both Michael Jordan and LeBron James NBA careers. This data will help determine, based off of averages, who is the better offensive player between Michael Jordan and LeBron James."
   ]
  },
  {
   "cell_type": "markdown",
   "id": "2265751d",
   "metadata": {},
   "source": [
    "# Clean the Data Sets"
   ]
  },
  {
   "cell_type": "markdown",
   "id": "fbbcc2c1",
   "metadata": {},
   "source": [
    "This data was already clean when I imported it. This section of 'cleaning' the data sets is used to pull the columns of data that are actually needed to evaluate and get an answer to my question."
   ]
  },
  {
   "cell_type": "markdown",
   "id": "646126ec",
   "metadata": {},
   "source": [
    "## Michael Jordan Data Set"
   ]
  },
  {
   "cell_type": "markdown",
   "id": "635658fb",
   "metadata": {},
   "source": [
    "#### Extract Necessary Columns for Analysis"
   ]
  },
  {
   "cell_type": "code",
   "execution_count": 8,
   "id": "0bfd0209",
   "metadata": {},
   "outputs": [],
   "source": [
    "MJ_Data = Michael_Jordan_Stats[['Season','Age','FG%','3P%','2P%','FT%','PTS']]"
   ]
  },
  {
   "cell_type": "markdown",
   "id": "ee7f819e",
   "metadata": {},
   "source": [
    "## LeBron James Data"
   ]
  },
  {
   "cell_type": "markdown",
   "id": "09448d85",
   "metadata": {},
   "source": [
    "#### Extract necessary Columns for Analysis"
   ]
  },
  {
   "cell_type": "code",
   "execution_count": 9,
   "id": "3644bf29",
   "metadata": {},
   "outputs": [],
   "source": [
    "LJ_Data = LeBron_James_Stats[['Season','Age','FG%','3P%','2P%','FT%','PTS']]"
   ]
  },
  {
   "cell_type": "markdown",
   "id": "6b88fc06",
   "metadata": {},
   "source": [
    "# Data Analysis"
   ]
  },
  {
   "cell_type": "markdown",
   "id": "15a1c660",
   "metadata": {},
   "source": [
    "### Counts of Data"
   ]
  },
  {
   "cell_type": "code",
   "execution_count": 10,
   "id": "3789a9e1",
   "metadata": {},
   "outputs": [
    {
     "data": {
      "text/plain": [
       "<bound method IndexOpsMixin.value_counts of 0     21\n",
       "1     22\n",
       "2     23\n",
       "3     24\n",
       "4     25\n",
       "5     26\n",
       "6     27\n",
       "7     28\n",
       "8     29\n",
       "9     31\n",
       "10    32\n",
       "11    33\n",
       "12    34\n",
       "13    38\n",
       "14    39\n",
       "Name: Age, dtype: int64>"
      ]
     },
     "execution_count": 10,
     "metadata": {},
     "output_type": "execute_result"
    }
   ],
   "source": [
    "Michael_Jordan_Stats['Age'].value_counts"
   ]
  },
  {
   "cell_type": "markdown",
   "id": "93c52611",
   "metadata": {},
   "source": [
    "From this value_vount command we can see how many years Michael Jordan played in the NBA and at what age.\n",
    "He played 14 seasons with his first being at 22 and his last being at age 39. At age 30 and 35-37 he did not play."
   ]
  },
  {
   "cell_type": "code",
   "execution_count": 11,
   "id": "1176e828",
   "metadata": {},
   "outputs": [
    {
     "data": {
      "text/plain": [
       "<bound method IndexOpsMixin.value_counts of 0     19\n",
       "1     20\n",
       "2     21\n",
       "3     22\n",
       "4     23\n",
       "5     24\n",
       "6     25\n",
       "7     26\n",
       "8     27\n",
       "9     28\n",
       "10    29\n",
       "11    30\n",
       "12    31\n",
       "13    32\n",
       "14    33\n",
       "15    34\n",
       "16    35\n",
       "17    36\n",
       "18    37\n",
       "Name: Age, dtype: int64>"
      ]
     },
     "execution_count": 11,
     "metadata": {},
     "output_type": "execute_result"
    }
   ],
   "source": [
    "LeBron_James_Stats['Age'].value_counts"
   ]
  },
  {
   "cell_type": "markdown",
   "id": "fa3d6d64",
   "metadata": {},
   "source": [
    "From this value_count command we can see how many years LeBron James played in the NBA and at what age. He played 18 seasons with his first being at 20 and his latest at age 37. Unlike MJ, LeBron has not taken any years/seasons off since starting his career at age 20."
   ]
  },
  {
   "cell_type": "markdown",
   "id": "a52ad384",
   "metadata": {},
   "source": [
    "## Comparison between 'FG%' (Field Goal Percentage) and Age"
   ]
  },
  {
   "cell_type": "markdown",
   "id": "84dee0b8",
   "metadata": {},
   "source": [
    "### Correlation Coefficients"
   ]
  },
  {
   "cell_type": "markdown",
   "id": "71af559e",
   "metadata": {},
   "source": [
    "#### Michael Jordan"
   ]
  },
  {
   "cell_type": "code",
   "execution_count": 12,
   "id": "60a0e5b8",
   "metadata": {},
   "outputs": [
    {
     "data": {
      "image/png": "[encoded data removed]",
      "text/plain": [
       "<Figure size 1296x360 with 1 Axes>"
      ]
     },
     "metadata": {
      "needs_background": "light"
     },
     "output_type": "display_data"
    }
   ],
   "source": [
    "MJ_Data.groupby(by=\"Age\").median(\"median\")['FG%'].plot(kind=\"bar\",figsize=(18,5), ylabel=\"FG%\",title=\"Michael Jordan Median Field Goal Percentage by Age\")\n",
    "plt.grid()\n",
    "plt.show()"
   ]
  },
  {
   "cell_type": "markdown",
   "id": "4b00f3b5",
   "metadata": {},
   "source": [
    "### Averages"
   ]
  },
  {
   "cell_type": "code",
   "execution_count": 13,
   "id": "d7dbc1ff",
   "metadata": {},
   "outputs": [],
   "source": [
    "MJ_FG = Michael_Jordan_Stats['FG%']"
   ]
  },
  {
   "cell_type": "code",
   "execution_count": 14,
   "id": "0067b04a",
   "metadata": {},
   "outputs": [
    {
     "name": "stdout",
     "output_type": "stream",
     "text": [
      "Michael Jordan has an overall career average FG% of 0.495\n"
     ]
    }
   ],
   "source": [
    "MJ_FG_A = MJ_FG.median()\n",
    "print(\"Michael Jordan has an overall career average FG% of \" + str(MJ_FG_A))"
   ]
  },
  {
   "cell_type": "markdown",
   "id": "1b45a113",
   "metadata": {},
   "source": [
    "### Correlation Coefficients"
   ]
  },
  {
   "cell_type": "markdown",
   "id": "23a7fd85",
   "metadata": {},
   "source": [
    "#### LeBron James\n"
   ]
  },
  {
   "cell_type": "code",
   "execution_count": 15,
   "id": "1061ccc2",
   "metadata": {},
   "outputs": [
    {
     "data": {
      "image/png": "[encoded data removed]",
      "text/plain": [
       "<Figure size 1296x360 with 1 Axes>"
      ]
     },
     "metadata": {
      "needs_background": "light"
     },
     "output_type": "display_data"
    }
   ],
   "source": [
    "LJ_Data.groupby(by=\"Age\").median(\"median\")['FG%'].plot(kind=\"bar\",figsize=(18,5), ylabel=\"FG%\",title=\"LeBron James Median Field Goal Percentage by Age\")\n",
    "plt.grid()\n",
    "plt.show()"
   ]
  },
  {
   "cell_type": "markdown",
   "id": "791cf38e",
   "metadata": {},
   "source": [
    "### Averages"
   ]
  },
  {
   "cell_type": "code",
   "execution_count": 16,
   "id": "33b43225",
   "metadata": {},
   "outputs": [],
   "source": [
    "LJ_FG = LeBron_James_Stats['FG%']"
   ]
  },
  {
   "cell_type": "code",
   "execution_count": 17,
   "id": "17a50cd7",
   "metadata": {},
   "outputs": [
    {
     "name": "stdout",
     "output_type": "stream",
     "text": [
      "LeBron James has an overall career average FG% of 0.503\n"
     ]
    }
   ],
   "source": [
    "LJ_FG_A = LJ_FG.median()\n",
    "print(\"LeBron James has an overall career average FG% of \" + str(LJ_FG_A))"
   ]
  },
  {
   "cell_type": "markdown",
   "id": "caecca2c",
   "metadata": {},
   "source": [
    "## Comparison of 'FT%' (Free throw percentage) by Age"
   ]
  },
  {
   "cell_type": "markdown",
   "id": "b2d92541",
   "metadata": {},
   "source": [
    "### Correlation Coefficients"
   ]
  },
  {
   "cell_type": "markdown",
   "id": "55353342",
   "metadata": {},
   "source": [
    "#### Michael Jordan"
   ]
  },
  {
   "cell_type": "code",
   "execution_count": 18,
   "id": "86fc4d8a",
   "metadata": {},
   "outputs": [
    {
     "data": {
      "image/png": "[encoded data removed]",
      "text/plain": [
       "<Figure size 1296x360 with 1 Axes>"
      ]
     },
     "metadata": {
      "needs_background": "light"
     },
     "output_type": "display_data"
    }
   ],
   "source": [
    "MJ_Data.groupby(by=\"Age\").median(\"median\")['FT%'].plot(kind=\"bar\",figsize=(18,5), ylabel=\"FT%\",title=\"Michael Jordan Median Free Throw Percentage by Age\")\n",
    "plt.grid()\n",
    "plt.show()"
   ]
  },
  {
   "cell_type": "markdown",
   "id": "8d7c3fd9",
   "metadata": {},
   "source": [
    "### Averages"
   ]
  },
  {
   "cell_type": "code",
   "execution_count": 19,
   "id": "f2e7dc9f",
   "metadata": {},
   "outputs": [],
   "source": [
    "MJ_FT = Michael_Jordan_Stats['FT%']"
   ]
  },
  {
   "cell_type": "code",
   "execution_count": 20,
   "id": "028753ca",
   "metadata": {},
   "outputs": [
    {
     "name": "stdout",
     "output_type": "stream",
     "text": [
      "Michael Jordan has an overall career average FT% of 0.837\n"
     ]
    }
   ],
   "source": [
    "MJ_FT_A = MJ_FT.median()\n",
    "print(\"Michael Jordan has an overall career average FT% of \" + str(MJ_FT_A))"
   ]
  },
  {
   "cell_type": "markdown",
   "id": "5b2aa752",
   "metadata": {},
   "source": [
    "### Correlation Coefficients"
   ]
  },
  {
   "cell_type": "markdown",
   "id": "74551918",
   "metadata": {},
   "source": [
    "#### LeBron James"
   ]
  },
  {
   "cell_type": "code",
   "execution_count": 21,
   "id": "f51045ab",
   "metadata": {},
   "outputs": [
    {
     "data": {
      "image/png": "[encoded data removed]",
      "text/plain": [
       "<Figure size 1296x360 with 1 Axes>"
      ]
     },
     "metadata": {
      "needs_background": "light"
     },
     "output_type": "display_data"
    }
   ],
   "source": [
    "LJ_Data.groupby(by=\"Age\").median(\"median\")['FT%'].plot(kind=\"bar\",figsize=(18,5), ylabel=\"FT%\",title=\"LeBron James Median Free Throw Percentage by Age\")\n",
    "plt.grid()\n",
    "plt.show()"
   ]
  },
  {
   "cell_type": "markdown",
   "id": "6139ae06",
   "metadata": {},
   "source": [
    "### Averages"
   ]
  },
  {
   "cell_type": "code",
   "execution_count": 22,
   "id": "3c134c40",
   "metadata": {},
   "outputs": [],
   "source": [
    "LJ_FT = LeBron_James_Stats['FT%']"
   ]
  },
  {
   "cell_type": "code",
   "execution_count": 23,
   "id": "4ebdae00",
   "metadata": {},
   "outputs": [
    {
     "name": "stdout",
     "output_type": "stream",
     "text": [
      "LeBron James has an overall career average FT% of 0.738\n"
     ]
    }
   ],
   "source": [
    "LJ_FT_A = LJ_FT.median()\n",
    "print(\"LeBron James has an overall career average FT% of \" + str(LJ_FT_A))"
   ]
  },
  {
   "cell_type": "markdown",
   "id": "eddc5935",
   "metadata": {},
   "source": [
    "## Comparinson of '3P%' (Three Point Percantage) by Age"
   ]
  },
  {
   "cell_type": "markdown",
   "id": "db2e2e85",
   "metadata": {},
   "source": [
    "### Correlation Coefficients"
   ]
  },
  {
   "cell_type": "markdown",
   "id": "7e2208a0",
   "metadata": {},
   "source": [
    "#### Michael Jordan"
   ]
  },
  {
   "cell_type": "code",
   "execution_count": 24,
   "id": "28c8f734",
   "metadata": {},
   "outputs": [
    {
     "data": {
      "image/png": "[encoded data removed]",
      "text/plain": [
       "<Figure size 1296x360 with 1 Axes>"
      ]
     },
     "metadata": {
      "needs_background": "light"
     },
     "output_type": "display_data"
    }
   ],
   "source": [
    "MJ_Data.groupby(by=\"Age\").median(\"median\")['3P%'].plot(kind=\"bar\",figsize=(18,5), ylabel=\"3P%\",title=\"Michael Jordan Median Three Point Percentage by Age\")\n",
    "plt.grid()\n",
    "plt.show()"
   ]
  },
  {
   "cell_type": "markdown",
   "id": "8810bb65",
   "metadata": {},
   "source": [
    "### Averages"
   ]
  },
  {
   "cell_type": "code",
   "execution_count": 25,
   "id": "d8123366",
   "metadata": {},
   "outputs": [],
   "source": [
    "MJ_3P = Michael_Jordan_Stats['3P%']"
   ]
  },
  {
   "cell_type": "code",
   "execution_count": 26,
   "id": "8b9731f5",
   "metadata": {},
   "outputs": [
    {
     "name": "stdout",
     "output_type": "stream",
     "text": [
      "Michael Jordan has an overall career average 3P% of 0.276\n"
     ]
    }
   ],
   "source": [
    "MJ_3P_A = MJ_3P.median()\n",
    "print(\"Michael Jordan has an overall career average 3P% of \" + str(MJ_3P_A))"
   ]
  },
  {
   "cell_type": "markdown",
   "id": "92d86065",
   "metadata": {},
   "source": [
    "#### LeBron James"
   ]
  },
  {
   "cell_type": "code",
   "execution_count": 27,
   "id": "18dabfe9",
   "metadata": {},
   "outputs": [
    {
     "data": {
      "image/png": "[encoded data removed]",
      "text/plain": [
       "<Figure size 1296x360 with 1 Axes>"
      ]
     },
     "metadata": {
      "needs_background": "light"
     },
     "output_type": "display_data"
    }
   ],
   "source": [
    "LJ_Data.groupby(by=\"Age\").median(\"median\")['3P%'].plot(kind=\"bar\",figsize=(18,5), ylabel=\"3P%\",title=\"Lebron James Median Three Point Percentage by Age\")\n",
    "plt.grid()\n",
    "plt.show()"
   ]
  },
  {
   "cell_type": "markdown",
   "id": "92eb205f",
   "metadata": {},
   "source": [
    "### Averages"
   ]
  },
  {
   "cell_type": "code",
   "execution_count": 28,
   "id": "bd222137",
   "metadata": {},
   "outputs": [],
   "source": [
    "LJ_3P = LeBron_James_Stats['3P%']"
   ]
  },
  {
   "cell_type": "code",
   "execution_count": 29,
   "id": "ad61fb7b",
   "metadata": {},
   "outputs": [
    {
     "name": "stdout",
     "output_type": "stream",
     "text": [
      "LeBron James has an overall career average 3P% of 0.344\n"
     ]
    }
   ],
   "source": [
    "LJ_3P_A = LJ_3P.median()\n",
    "print(\"LeBron James has an overall career average 3P% of \" + str(LJ_3P_A))"
   ]
  },
  {
   "cell_type": "markdown",
   "id": "f362a182",
   "metadata": {},
   "source": [
    "## Comparison of 2P% (Two point percentage) by Age"
   ]
  },
  {
   "cell_type": "markdown",
   "id": "0c28913c",
   "metadata": {},
   "source": [
    "### Correlation Coefficients"
   ]
  },
  {
   "cell_type": "markdown",
   "id": "328047fc",
   "metadata": {},
   "source": [
    "#### Michael Jordan"
   ]
  },
  {
   "cell_type": "code",
   "execution_count": 30,
   "id": "3c46a105",
   "metadata": {},
   "outputs": [
    {
     "data": {
      "image/png": "[encoded data removed]",
      "text/plain": [
       "<Figure size 1296x360 with 1 Axes>"
      ]
     },
     "metadata": {
      "needs_background": "light"
     },
     "output_type": "display_data"
    }
   ],
   "source": [
    "MJ_Data.groupby(by=\"Age\").median(\"median\")['2P%'].plot(kind=\"bar\",figsize=(18,5), ylabel=\"2P%\",title=\"Michael Jordan Median Two Point Percentage by Age\")\n",
    "plt.grid()\n",
    "plt.show()"
   ]
  },
  {
   "cell_type": "markdown",
   "id": "a7cde45b",
   "metadata": {},
   "source": [
    "### Averages"
   ]
  },
  {
   "cell_type": "code",
   "execution_count": 31,
   "id": "05a30b3a",
   "metadata": {},
   "outputs": [],
   "source": [
    "MJ_2P = Michael_Jordan_Stats['2P%']"
   ]
  },
  {
   "cell_type": "code",
   "execution_count": 32,
   "id": "08100d68",
   "metadata": {},
   "outputs": [
    {
     "name": "stdout",
     "output_type": "stream",
     "text": [
      "Michael Jordan has an overall career average 2P% of 0.507\n"
     ]
    }
   ],
   "source": [
    "MJ_2P_A = MJ_2P.median()\n",
    "print(\"Michael Jordan has an overall career average 2P% of \" + str(MJ_2P_A))"
   ]
  },
  {
   "cell_type": "markdown",
   "id": "c8ac6f4f",
   "metadata": {},
   "source": [
    "#### LeBron James"
   ]
  },
  {
   "cell_type": "code",
   "execution_count": 33,
   "id": "28271d62",
   "metadata": {},
   "outputs": [
    {
     "data": {
      "image/png": "[encoded data removed]",
      "text/plain": [
       "<Figure size 1296x360 with 1 Axes>"
      ]
     },
     "metadata": {
      "needs_background": "light"
     },
     "output_type": "display_data"
    }
   ],
   "source": [
    "LJ_Data.groupby(by=\"Age\").median(\"median\")['2P%'].plot(kind=\"bar\",figsize=(18,5), ylabel=\"2P%\",title=\"LeBron James Median Two Point Percentage by Age\")\n",
    "plt.grid()\n",
    "plt.show()"
   ]
  },
  {
   "cell_type": "markdown",
   "id": "a7b70a3b",
   "metadata": {},
   "source": [
    "### Averages"
   ]
  },
  {
   "cell_type": "code",
   "execution_count": 34,
   "id": "9a4048db",
   "metadata": {},
   "outputs": [],
   "source": [
    "LJ_2P = LeBron_James_Stats['2P%']"
   ]
  },
  {
   "cell_type": "code",
   "execution_count": 35,
   "id": "35c367f6",
   "metadata": {},
   "outputs": [
    {
     "name": "stdout",
     "output_type": "stream",
     "text": [
      "LeBron James has an overall career average 2P% of 0.56\n"
     ]
    }
   ],
   "source": [
    "LJ_2P_A = LJ_2P.median()\n",
    "print(\"LeBron James has an overall career average 2P% of \" + str(LJ_2P_A))"
   ]
  },
  {
   "cell_type": "markdown",
   "id": "654b0532",
   "metadata": {},
   "source": [
    "## Comparison of PTS (Points per season) by Age"
   ]
  },
  {
   "cell_type": "markdown",
   "id": "fac06bba",
   "metadata": {},
   "source": [
    "### Correlation Coefficients"
   ]
  },
  {
   "cell_type": "markdown",
   "id": "acd2c0e5",
   "metadata": {},
   "source": [
    "#### Michael Jordan"
   ]
  },
  {
   "cell_type": "code",
   "execution_count": 36,
   "id": "882f8b93",
   "metadata": {},
   "outputs": [
    {
     "data": {
      "image/png": "[encoded data removed]",
      "text/plain": [
       "<Figure size 1296x360 with 1 Axes>"
      ]
     },
     "metadata": {
      "needs_background": "light"
     },
     "output_type": "display_data"
    }
   ],
   "source": [
    "MJ_Data.groupby(by=\"Age\").median(\"median\")['PTS'].plot(kind=\"bar\",figsize=(18,5), ylabel=\"PTS\",title=\"Michael Jordan Median Points per season by Age\")\n",
    "plt.grid()\n",
    "plt.show()"
   ]
  },
  {
   "cell_type": "markdown",
   "id": "34a061d6",
   "metadata": {},
   "source": [
    "### Averages"
   ]
  },
  {
   "cell_type": "code",
   "execution_count": 37,
   "id": "8cdd09f9",
   "metadata": {},
   "outputs": [],
   "source": [
    "MJ_PTS = Michael_Jordan_Stats['PTS']"
   ]
  },
  {
   "cell_type": "code",
   "execution_count": 38,
   "id": "4a53fb2b",
   "metadata": {},
   "outputs": [
    {
     "name": "stdout",
     "output_type": "stream",
     "text": [
      "Michael Jordan has an overall career average PTS per season of 30.1\n"
     ]
    }
   ],
   "source": [
    "MJ_PTS_A = MJ_PTS.median()\n",
    "print(\"Michael Jordan has an overall career average PTS per season of \" + str(MJ_PTS_A))"
   ]
  },
  {
   "cell_type": "markdown",
   "id": "26e9fc12",
   "metadata": {},
   "source": [
    "#### LeBron James "
   ]
  },
  {
   "cell_type": "code",
   "execution_count": 39,
   "id": "e268e5d0",
   "metadata": {},
   "outputs": [
    {
     "data": {
      "image/png": "[encoded data removed]",
      "text/plain": [
       "<Figure size 1296x360 with 1 Axes>"
      ]
     },
     "metadata": {
      "needs_background": "light"
     },
     "output_type": "display_data"
    }
   ],
   "source": [
    "LJ_Data.groupby(by=\"Age\").median(\"median\")['PTS'].plot(kind=\"bar\",figsize=(18,5), ylabel=\"PTS\",title=\"LeBron James Median Points per season by Age\")\n",
    "plt.grid()\n",
    "plt.show()"
   ]
  },
  {
   "cell_type": "markdown",
   "id": "0611f295",
   "metadata": {},
   "source": [
    "### Averages"
   ]
  },
  {
   "cell_type": "code",
   "execution_count": 40,
   "id": "79d8c3eb",
   "metadata": {},
   "outputs": [],
   "source": [
    "LJ_PTS = LeBron_James_Stats['PTS']"
   ]
  },
  {
   "cell_type": "code",
   "execution_count": 41,
   "id": "430e82b5",
   "metadata": {},
   "outputs": [
    {
     "name": "stdout",
     "output_type": "stream",
     "text": [
      "LeBron James has an overall career average PTS per season of 27.1\n"
     ]
    }
   ],
   "source": [
    "LJ_PTS_A = LJ_PTS.median()\n",
    "print(\"LeBron James has an overall career average PTS per season of \" + str(LJ_PTS_A))"
   ]
  },
  {
   "cell_type": "markdown",
   "id": "dcf0681d",
   "metadata": {},
   "source": [
    "# Results and Major Findings from Analysis"
   ]
  },
  {
   "cell_type": "markdown",
   "id": "36de9737",
   "metadata": {},
   "source": [
    "Michael Jordan played 14 seasons while LeBron James has played in 18 seasons and is currently still in the NBA. \n",
    "\n",
    "Michael Jordan had a 49.5% Field goal percentage while LeBron has a 50.3% field goal percentage. \n",
    "\n",
    "Jordan had a 83.7% free throw percentage while LeBron has a 73.8% free throw percentage.\n",
    "\n",
    "Jordan had a 27.6% 3-point percentage while LeBron has a 34.4% 3-point percentage.\n",
    "\n",
    "Jordan had a 50.7% 2-point percentage while LeBron has a 56% 2-point percentage.\n",
    "\n",
    "Jordan has an overall career average points per season of 30.1 while LeBron has an overall career average points per season of 27.1.\n",
    "\n",
    "From the results of the analysis of the data one would conclude and think that since LeBron has a higher statistic than Jordan in all of them but two, free throw percentage and points per season that LeBron would be the better player. I would have to agree if we were looking purely at the offensive statistics. Things that are not consider in this analysis is the time frame, technology, and the fact that the 3 point statistic was not accounted for during part of Jordan’s career. One could also argue that Jordan having a higher points per season and free throw percentage makes him the better offensive player because those are two vital statistics within the data sets. \n"
   ]
  },
  {
   "cell_type": "markdown",
   "id": "13c8f797",
   "metadata": {},
   "source": [
    "# Difficulties in Analysis"
   ]
  },
  {
   "cell_type": "markdown",
   "id": "742d790c",
   "metadata": {},
   "source": [
    "The difficulties I faced in analyzing this data was trying to decide which key statistics/data would solve or answer my question and how to take into consideration the different sizes of data.\n",
    "\n",
    "The data was very clean and organized for the most part, but LeBron James has played more seasons/years than Michael Jordan so that was difficult to take into consideration when analyzing the data and could throw off the results. Including or excluding a certain statistic from the data could also heavily change the result of the analysis. Those were the major hurdles I had to overcome."
   ]
  },
  {
   "cell_type": "markdown",
   "id": "b7ad245e",
   "metadata": {},
   "source": [
    "# Next Steps"
   ]
  },
  {
   "cell_type": "markdown",
   "id": "fb426bd1",
   "metadata": {},
   "source": [
    "If I had more time or resources I would have focused on PER (Player efficiency rating). This statistic calculates and considers all the offensive tools of a player and rates them by efficiency. I also would have found a way to level out the playing field given that both players played and are still playing in different eras. I think that they are equally good and have different strengths and weaknesses. I’m not sure if there is a good way or perfect way to decide or answer this question if I’m being entirely honest. But if I had more time or resources I would find the most accurate way, if any, to answer who was the better offensive player or else change my question and dive deeper into who is the best OVERALL player."
   ]
  }
 ],
 "metadata": {
  "kernelspec": {
   "display_name": "Python 3 (ipykernel)",
   "language": "python",
   "name": "python3"
  },
  "language_info": {
   "codemirror_mode": {
    "name": "ipython",
    "version": 3
   },
   "file_extension": ".py",
   "mimetype": "text/x-python",
   "name": "python",
   "nbconvert_exporter": "python",
   "pygments_lexer": "ipython3",
   "version": "3.8.10"
  }
 },
 "nbformat": 4,
 "nbformat_minor": 5
}
